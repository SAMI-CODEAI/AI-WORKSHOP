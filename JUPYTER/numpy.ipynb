{
 "cells": [
  {
   "cell_type": "code",
   "execution_count": 1,
   "id": "10422e39-f27f-4823-874c-7e1dddc15221",
   "metadata": {},
   "outputs": [
    {
     "name": "stdout",
     "output_type": "stream",
     "text": [
      "Requirement already satisfied: numpy in c:\\users\\thoge\\anaconda3\\lib\\site-packages (1.26.4)Note: you may need to restart the kernel to use updated packages.\n",
      "\n"
     ]
    }
   ],
   "source": [
    "pip install numpy"
   ]
  },
  {
   "cell_type": "code",
   "execution_count": 141,
   "id": "c94612a2-6a82-48f9-9c2d-47defdad6fc5",
   "metadata": {},
   "outputs": [],
   "source": [
    "import numpy as np"
   ]
  },
  {
   "cell_type": "code",
   "execution_count": 3,
   "id": "f2f7b776-e9b7-42ba-936e-929aca32474d",
   "metadata": {},
   "outputs": [
    {
     "name": "stdout",
     "output_type": "stream",
     "text": [
      "{1, 2, 3, 4, 5}\n"
     ]
    }
   ],
   "source": [
    "my_list={1, 2, 3, 4,5}\n",
    "my_array=np.array(my_list)\n",
    "print(my_array)"
   ]
  },
  {
   "cell_type": "markdown",
   "id": "ae2d759e-7113-49ed-a807-5be6861454ff",
   "metadata": {},
   "source": [
    "built in functions"
   ]
  },
  {
   "cell_type": "code",
   "execution_count": null,
   "id": "973e1f34-74aa-4148-912b-1ed4e5eee5f9",
   "metadata": {},
   "outputs": [],
   "source": [
    "abc=np.zeros(10)"
   ]
  },
  {
   "cell_type": "code",
   "execution_count": 5,
   "id": "28105f72-232b-49ae-8aeb-9c7ee50c45c9",
   "metadata": {},
   "outputs": [
    {
     "data": {
      "text/plain": [
       "array([0., 0., 0., 0., 0., 0., 0., 0., 0., 0.])"
      ]
     },
     "execution_count": 5,
     "metadata": {},
     "output_type": "execute_result"
    }
   ],
   "source": [
    "abc"
   ]
  },
  {
   "cell_type": "code",
   "execution_count": 12,
   "id": "e51bd7fb-48fd-472a-b316-e472b8c2d8aa",
   "metadata": {},
   "outputs": [],
   "source": [
    "ones= np.ones(3)"
   ]
  },
  {
   "cell_type": "code",
   "execution_count": 14,
   "id": "499c8588-e626-4df3-bd75-6c67b3e06f78",
   "metadata": {},
   "outputs": [
    {
     "data": {
      "text/plain": [
       "array([1., 1., 1.])"
      ]
     },
     "execution_count": 14,
     "metadata": {},
     "output_type": "execute_result"
    }
   ],
   "source": [
    "ones"
   ]
  },
  {
   "cell_type": "markdown",
   "id": "87ca7fd2-81f6-412e-bcf6-9ee4dd065b2e",
   "metadata": {},
   "source": [
    "MATRICES"
   ]
  },
  {
   "cell_type": "code",
   "execution_count": 16,
   "id": "fc252070-436f-4efc-9f65-1abd15627dc5",
   "metadata": {},
   "outputs": [
    {
     "data": {
      "text/plain": [
       "array([[1., 0., 0., 0., 0.],\n",
       "       [0., 1., 0., 0., 0.],\n",
       "       [0., 0., 1., 0., 0.],\n",
       "       [0., 0., 0., 1., 0.],\n",
       "       [0., 0., 0., 0., 1.]])"
      ]
     },
     "execution_count": 16,
     "metadata": {},
     "output_type": "execute_result"
    }
   ],
   "source": [
    "identity_matrix=np.eye(5)#creates identity matrix\n",
    "identity_matrix"
   ]
  },
  {
   "cell_type": "code",
   "execution_count": 20,
   "id": "26ffd594-cc64-41ff-b184-ad8e296d1bd8",
   "metadata": {},
   "outputs": [
    {
     "data": {
      "text/plain": [
       "array([1, 3, 5, 7, 9])"
      ]
     },
     "execution_count": 20,
     "metadata": {},
     "output_type": "execute_result"
    }
   ],
   "source": [
    "ra=np.arange(1, 10, 2)#creates an array from 1 to 9 with a step of 2\n",
    "ra"
   ]
  },
  {
   "cell_type": "code",
   "execution_count": 22,
   "id": "3155012c-872f-4c40-9cdf-996c8c678649",
   "metadata": {},
   "outputs": [
    {
     "data": {
      "text/plain": [
       "array([0.  , 0.25, 0.5 , 0.75, 1.  ])"
      ]
     },
     "execution_count": 22,
     "metadata": {},
     "output_type": "execute_result"
    }
   ],
   "source": [
    "np.linspace(0,1,5)#creates 5 even ly spaced valus btw 0 and 1"
   ]
  },
  {
   "cell_type": "raw",
   "id": "2d486464-4b41-452a-895e-90f88fd75dfd",
   "metadata": {},
   "source": [
    "RANDOM ARRAYS"
   ]
  },
  {
   "cell_type": "code",
   "execution_count": 26,
   "id": "2a44d01d-8106-4838-8031-a3ae38a971dd",
   "metadata": {},
   "outputs": [
    {
     "data": {
      "text/plain": [
       "array([[0.13466056, 0.01061103],\n",
       "       [0.74738105, 0.04420928]])"
      ]
     },
     "execution_count": 26,
     "metadata": {},
     "output_type": "execute_result"
    }
   ],
   "source": [
    "np.random.rand(2,2)"
   ]
  },
  {
   "cell_type": "markdown",
   "id": "66433c80-25ca-4710-ba8d-f668cf3092ac",
   "metadata": {},
   "source": [
    "ACCESSING AND SLICING AN ARRAY"
   ]
  },
  {
   "cell_type": "code",
   "execution_count": 46,
   "id": "a9b2441f-49b0-4542-b190-4dc9fcb26b5a",
   "metadata": {},
   "outputs": [],
   "source": [
    "my_list=[[1,2.7,3,4,5],[6,7,8,9,10]]"
   ]
  },
  {
   "cell_type": "code",
   "execution_count": 48,
   "id": "ced69975-c83e-4826-af95-2de612eba8f7",
   "metadata": {},
   "outputs": [],
   "source": [
    "my_array=np.array(my_list)"
   ]
  },
  {
   "cell_type": "code",
   "execution_count": 50,
   "id": "d0895e0c-94a7-415c-bda8-7aca89f913ab",
   "metadata": {},
   "outputs": [
    {
     "data": {
      "text/plain": [
       "array([[ 1. ,  2.7,  3. ,  4. ,  5. ],\n",
       "       [ 6. ,  7. ,  8. ,  9. , 10. ]])"
      ]
     },
     "execution_count": 50,
     "metadata": {},
     "output_type": "execute_result"
    }
   ],
   "source": [
    "my_array"
   ]
  },
  {
   "cell_type": "code",
   "execution_count": 52,
   "id": "0fb33f7a-8d3b-4ab5-a79e-6b316a6251fe",
   "metadata": {},
   "outputs": [
    {
     "data": {
      "text/plain": [
       "array([1. , 2.7, 3. , 4. ])"
      ]
     },
     "execution_count": 52,
     "metadata": {},
     "output_type": "execute_result"
    }
   ],
   "source": [
    "my_array[0][0:4]"
   ]
  },
  {
   "cell_type": "markdown",
   "id": "e37a9417-1032-4303-a85f-2207420401a8",
   "metadata": {},
   "source": [
    "ARRAY PROPERTIES"
   ]
  },
  {
   "cell_type": "code",
   "execution_count": 55,
   "id": "f4e24314-ddac-46be-b45e-5f058ffd338b",
   "metadata": {},
   "outputs": [
    {
     "data": {
      "text/plain": [
       "(2, 5)"
      ]
     },
     "execution_count": 55,
     "metadata": {},
     "output_type": "execute_result"
    }
   ],
   "source": [
    "my_array.shape"
   ]
  },
  {
   "cell_type": "code",
   "execution_count": 57,
   "id": "8f3dcc0c-a12f-4853-a84c-66152f3f9611",
   "metadata": {},
   "outputs": [
    {
     "data": {
      "text/plain": [
       "dtype('float64')"
      ]
     },
     "execution_count": 57,
     "metadata": {},
     "output_type": "execute_result"
    }
   ],
   "source": [
    "my_array.dtype"
   ]
  },
  {
   "cell_type": "code",
   "execution_count": 59,
   "id": "b196f14f-cc79-496b-b138-720b864cfaaa",
   "metadata": {},
   "outputs": [],
   "source": [
    "a1=[1,2,3]\n",
    "a2=[2,3,4]"
   ]
  },
  {
   "cell_type": "markdown",
   "id": "55783587-f526-4e0b-919c-80abeab70d7d",
   "metadata": {},
   "source": [
    "RESHAPING"
   ]
  },
  {
   "cell_type": "code",
   "execution_count": 73,
   "id": "c5d180ae-072a-4033-8c8b-e76b961c3248",
   "metadata": {},
   "outputs": [],
   "source": [
    "l1=[1,2.7,3,4,5]"
   ]
  },
  {
   "cell_type": "code",
   "execution_count": 106,
   "id": "54ae22cb-bb33-4951-a309-7f8780f9b3ef",
   "metadata": {},
   "outputs": [],
   "source": [
    "#reshape=l1.reshape(2,3)"
   ]
  },
  {
   "cell_type": "markdown",
   "id": "6c31c082-bda2-4f96-9560-80ed5c5a2490",
   "metadata": {},
   "source": [
    "STACKING ARRAYS"
   ]
  },
  {
   "cell_type": "code",
   "execution_count": 109,
   "id": "148272c0-a6d2-472c-909e-fd2f1933a3f9",
   "metadata": {},
   "outputs": [],
   "source": [
    "a1=np.array([1,2,3])\n",
    "a2=np.array([3,4,5])"
   ]
  },
  {
   "cell_type": "code",
   "execution_count": 111,
   "id": "8f0c3fb5-9e0c-4e73-a9f9-0f94fa1dd48e",
   "metadata": {},
   "outputs": [],
   "source": [
    "stack_vert=np.vstack((a1,a2))"
   ]
  },
  {
   "cell_type": "code",
   "execution_count": 113,
   "id": "bc719a8d-8688-49ac-b509-dbd1d21ff9b5",
   "metadata": {},
   "outputs": [
    {
     "data": {
      "text/plain": [
       "array([[1, 2, 3],\n",
       "       [3, 4, 5]])"
      ]
     },
     "execution_count": 113,
     "metadata": {},
     "output_type": "execute_result"
    }
   ],
   "source": [
    "stack_vert\n"
   ]
  },
  {
   "cell_type": "markdown",
   "id": "a13c7384-907c-486b-96c0-e32ff178f6a9",
   "metadata": {},
   "source": [
    "SORTING ARRAYS"
   ]
  },
  {
   "cell_type": "code",
   "execution_count": 116,
   "id": "1c170914-87c6-4054-a014-a47cf83c13a0",
   "metadata": {},
   "outputs": [],
   "source": [
    "original=np.array([3,1,2,4,5])\n",
    "sorted=np.sort(original)"
   ]
  },
  {
   "cell_type": "code",
   "execution_count": 118,
   "id": "ac826647-456b-4204-9c65-34597bdb401a",
   "metadata": {},
   "outputs": [
    {
     "data": {
      "text/plain": [
       "array([1, 2, 3, 4, 5])"
      ]
     },
     "execution_count": 118,
     "metadata": {},
     "output_type": "execute_result"
    }
   ],
   "source": [
    "sorted"
   ]
  },
  {
   "cell_type": "code",
   "execution_count": 120,
   "id": "ec828ec9-b2fd-48fe-a342-b7096cbb57d7",
   "metadata": {},
   "outputs": [],
   "source": [
    "decend=np.sort(original[::-1])"
   ]
  },
  {
   "cell_type": "code",
   "execution_count": 134,
   "id": "c63f6fb7-697b-4597-bd1b-e8cbe8229442",
   "metadata": {},
   "outputs": [
    {
     "data": {
      "text/plain": [
       "array([1, 2, 3, 4, 5])"
      ]
     },
     "execution_count": 134,
     "metadata": {},
     "output_type": "execute_result"
    }
   ],
   "source": [
    "decend"
   ]
  },
  {
   "cell_type": "code",
   "execution_count": null,
   "id": "598dcda2-f043-477f-9c1f-fbbe2c8a59e9",
   "metadata": {},
   "outputs": [],
   "source": [
    "\n"
   ]
  },
  {
   "cell_type": "code",
   "execution_count": null,
   "id": "6628812d-e884-4dac-926e-c9a343d470d3",
   "metadata": {},
   "outputs": [],
   "source": []
  }
 ],
 "metadata": {
  "kernelspec": {
   "display_name": "Python 3 (ipykernel)",
   "language": "python",
   "name": "python3"
  },
  "language_info": {
   "codemirror_mode": {
    "name": "ipython",
    "version": 3
   },
   "file_extension": ".py",
   "mimetype": "text/x-python",
   "name": "python",
   "nbconvert_exporter": "python",
   "pygments_lexer": "ipython3",
   "version": "3.12.4"
  }
 },
 "nbformat": 4,
 "nbformat_minor": 5
}

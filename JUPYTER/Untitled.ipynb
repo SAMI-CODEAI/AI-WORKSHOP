{
 "cells": [
  {
   "cell_type": "code",
   "execution_count": null,
   "id": "4d7957e9-6dc3-4e2f-bfec-aec3f4ca2dd3",
   "metadata": {},
   "outputs": [],
   "source": [
    "import cv2"
   ]
  },
  {
   "cell_type": "code",
   "execution_count": null,
   "id": "0286476c-0ed4-47c8-a0fb-2fa925df0347",
   "metadata": {},
   "outputs": [],
   "source": [
    "image = cv2.imread(\"Images/1.png\")\n",
    "cv2.imshow('Image', image)\n",
    "cv2.waitKey(0)\n",
    "cv2.destroyAllWindows()"
   ]
  },
  {
   "cell_type": "code",
   "execution_count": null,
   "id": "5f821654-eebf-4ad9-8249-6e108b619fc9",
   "metadata": {},
   "outputs": [],
   "source": [
    "image = cv2.imread(\"Images/cat.jpg\")"
   ]
  },
  {
   "cell_type": "code",
   "execution_count": null,
   "id": "46a3f13e-fcd1-45ae-aad4-1e879d9e7f1d",
   "metadata": {},
   "outputs": [],
   "source": [
    "width,height=400,100"
   ]
  },
  {
   "cell_type": "code",
   "execution_count": null,
   "id": "1e9d35d4-a0b8-4846-a905-f2bbff5ca234",
   "metadata": {},
   "outputs": [],
   "source": [
    "resized_image=cv2.resize(image,(width,height))"
   ]
  },
  {
   "cell_type": "code",
   "execution_count": null,
   "id": "e537e1b8-30b4-45b9-86b0-224e5b6612ff",
   "metadata": {},
   "outputs": [],
   "source": [
    "gray_image=cv2.cvtColor(image,cv2.COLOR_BGR2GRAY)"
   ]
  },
  {
   "cell_type": "code",
   "execution_count": null,
   "id": "28e3ba49-96e9-45ae-ac63-d008e10d52e1",
   "metadata": {},
   "outputs": [],
   "source": [
    "flipped_image=cv2.flip(image,0)"
   ]
  },
  {
   "cell_type": "code",
   "execution_count": null,
   "id": "1408f897-ca86-45e8-a079-76aa6a926ab5",
   "metadata": {},
   "outputs": [],
   "source": [
    "cv2.imshow('Original Image',image)\n",
    "cv2.waitKey(0)\n",
    "cv2.destroyAllWindows()"
   ]
  }
 ],
 "metadata": {
  "kernelspec": {
   "display_name": "Python 3 (ipykernel)",
   "language": "python",
   "name": "python3"
  },
  "language_info": {
   "codemirror_mode": {
    "name": "ipython",
    "version": 3
   },
   "file_extension": ".py",
   "mimetype": "text/x-python",
   "name": "python",
   "nbconvert_exporter": "python",
   "pygments_lexer": "ipython3",
   "version": "3.12.4"
  }
 },
 "nbformat": 4,
 "nbformat_minor": 5
}

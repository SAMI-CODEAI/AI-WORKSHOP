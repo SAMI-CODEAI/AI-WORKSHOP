{
 "cells": [
  {
   "cell_type": "code",
   "execution_count": 23,
   "id": "4d7957e9-6dc3-4e2f-bfec-aec3f4ca2dd3",
   "metadata": {},
   "outputs": [],
   "source": [
    "import cv2"
   ]
  },
  {
   "cell_type": "code",
   "execution_count": 25,
   "id": "0286476c-0ed4-47c8-a0fb-2fa925df0347",
   "metadata": {},
   "outputs": [],
   "source": [
    "image = cv2.imread(\"Images/1.png\")\n",
    "cv2.imshow('Image', image)\n",
    "cv2.waitKey(0)\n",
    "cv2.destroyAllWindows()"
   ]
  },
  {
   "cell_type": "code",
   "execution_count": 27,
   "id": "5f821654-eebf-4ad9-8249-6e108b619fc9",
   "metadata": {},
   "outputs": [],
   "source": [
    "image = cv2.imread(\"Images/cat.jpg\")"
   ]
  },
  {
   "cell_type": "code",
   "execution_count": 29,
   "id": "46a3f13e-fcd1-45ae-aad4-1e879d9e7f1d",
   "metadata": {},
   "outputs": [],
   "source": [
    "width,height=400,100"
   ]
  },
  {
   "cell_type": "code",
   "execution_count": 31,
   "id": "1e9d35d4-a0b8-4846-a905-f2bbff5ca234",
   "metadata": {},
   "outputs": [],
   "source": [
    "resized_image=cv2.resize(image,(width,height))"
   ]
  },
  {
   "cell_type": "code",
   "execution_count": 33,
   "id": "e537e1b8-30b4-45b9-86b0-224e5b6612ff",
   "metadata": {},
   "outputs": [],
   "source": [
    "gray_image=cv2.cvtColor(image,cv2.COLOR_BGR2GRAY)"
   ]
  },
  {
   "cell_type": "code",
   "execution_count": 35,
   "id": "06783778-0202-4dab-897a-55a1bb7a292d",
   "metadata": {},
   "outputs": [
    {
     "ename": "NameError",
     "evalue": "name 'grayFlip' is not defined",
     "output_type": "error",
     "traceback": [
      "\u001b[1;31m---------------------------------------------------------------------------\u001b[0m",
      "\u001b[1;31mNameError\u001b[0m                                 Traceback (most recent call last)",
      "Cell \u001b[1;32mIn[35], line 1\u001b[0m\n\u001b[1;32m----> 1\u001b[0m co_flip\u001b[38;5;241m=\u001b[39mcv2\u001b[38;5;241m.\u001b[39mcvtColor(grayFlip,cv2\u001b[38;5;241m.\u001b[39mCOLOR_BGR2GRAY)\n",
      "\u001b[1;31mNameError\u001b[0m: name 'grayFlip' is not defined"
     ]
    }
   ],
   "source": [
    "co_flip=cv2.cvtColor(grayFlip,cv2.COLOR_BGR2GRAY)"
   ]
  },
  {
   "cell_type": "code",
   "execution_count": null,
   "id": "28e3ba49-96e9-45ae-ac63-d008e10d52e1",
   "metadata": {},
   "outputs": [],
   "source": [
    "flipped_image=cv2.flip(image,0)"
   ]
  },
  {
   "cell_type": "code",
   "execution_count": 38,
   "id": "1408f897-ca86-45e8-a079-76aa6a926ab5",
   "metadata": {},
   "outputs": [
    {
     "ename": "NameError",
     "evalue": "name 'co_flip' is not defined",
     "output_type": "error",
     "traceback": [
      "\u001b[1;31m---------------------------------------------------------------------------\u001b[0m",
      "\u001b[1;31mNameError\u001b[0m                                 Traceback (most recent call last)",
      "Cell \u001b[1;32mIn[38], line 5\u001b[0m\n\u001b[0;32m      3\u001b[0m cv2\u001b[38;5;241m.\u001b[39mimshow(\u001b[38;5;124m'\u001b[39m\u001b[38;5;124mgray Image\u001b[39m\u001b[38;5;124m'\u001b[39m,gray_image)\n\u001b[0;32m      4\u001b[0m cv2\u001b[38;5;241m.\u001b[39mimshow(\u001b[38;5;124m'\u001b[39m\u001b[38;5;124mflip Image\u001b[39m\u001b[38;5;124m'\u001b[39m,flipped_image)\n\u001b[1;32m----> 5\u001b[0m cv2\u001b[38;5;241m.\u001b[39mimshow(\u001b[38;5;124m'\u001b[39m\u001b[38;5;124mFliped and gray Image\u001b[39m\u001b[38;5;124m'\u001b[39m,co_flip)\n\u001b[0;32m      7\u001b[0m cv2\u001b[38;5;241m.\u001b[39mwaitKey(\u001b[38;5;241m0\u001b[39m)\n\u001b[0;32m      8\u001b[0m cv2\u001b[38;5;241m.\u001b[39mdestroyAllWindows()\n",
      "\u001b[1;31mNameError\u001b[0m: name 'co_flip' is not defined"
     ]
    }
   ],
   "source": [
    "cv2.imshow('Original Image',image)\n",
    "cv2.imshow('resize Image',resized_image)\n",
    "cv2.imshow('gray Image',gray_image)\n",
    "cv2.imshow('flip Image',flipped_image)\n",
    "cv2.imshow('Fliped and gray Image',co_flip)\n",
    "\n",
    "cv2.waitKey(0)\n",
    "cv2.destroyAllWindows()"
   ]
  },
  {
   "cell_type": "code",
   "execution_count": null,
   "id": "07189ea7-0f90-47ff-a64f-3aa69774984d",
   "metadata": {},
   "outputs": [],
   "source": []
  }
 ],
 "metadata": {
  "kernelspec": {
   "display_name": "Python 3 (ipykernel)",
   "language": "python",
   "name": "python3"
  },
  "language_info": {
   "codemirror_mode": {
    "name": "ipython",
    "version": 3
   },
   "file_extension": ".py",
   "mimetype": "text/x-python",
   "name": "python",
   "nbconvert_exporter": "python",
   "pygments_lexer": "ipython3",
   "version": "3.12.4"
  }
 },
 "nbformat": 4,
 "nbformat_minor": 5
}
